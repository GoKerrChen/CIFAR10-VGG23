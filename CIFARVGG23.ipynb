{
  "nbformat": 4,
  "nbformat_minor": 0,
  "metadata": {
    "colab": {
      "name": "CIFARVGG23.ipynb",
      "provenance": []
    },
    "kernelspec": {
      "name": "python3",
      "display_name": "Python 3"
    },
    "language_info": {
      "name": "python"
    },
    "accelerator": "GPU"
  },
  "cells": [
    {
      "cell_type": "code",
      "execution_count": null,
      "metadata": {
        "id": "B47CnzMp3bwz"
      },
      "outputs": [],
      "source": [
        "import time\n",
        "import os\n",
        "\n",
        "import numpy as np\n",
        "\n",
        "import torch\n",
        "import torch.nn.functional as F\n",
        "import torch.nn as nn\n",
        "\n",
        "\n",
        "from torch.utils.data import Dataset\n",
        "from torch.utils.data import DataLoader\n",
        "from torchvision import transforms\n",
        "from torchvision.utils import make_grid\n",
        "from PIL import Image\n",
        "import matplotlib.pyplot as plt\n",
        "\n",
        "import argparse\n",
        "\n",
        "import numpy as np\n",
        "import torch\n",
        "import torchvision\n",
        "import torch.nn as nn\n",
        "import torch.nn.functional as F\n",
        "import torch.utils.data as Data\n",
        "import matplotlib.pyplot as plt\n",
        "from PIL import Image\n",
        "import torch.nn as nn\n",
        "import torch.nn.functional as F\n",
        "import torch.nn as nn\n",
        "import torch.nn.functional as F\n",
        "from torchvision import datasets\n"
      ]
    },
    {
      "cell_type": "code",
      "source": [
        "device = torch.device(\"cuda\" if torch.cuda.is_available() else \"cpu\")\n"
      ],
      "metadata": {
        "id": "kiKyrM0e3qd-"
      },
      "execution_count": null,
      "outputs": []
    },
    {
      "cell_type": "code",
      "source": [
        "train_transform = transforms.Compose([ # Compose multi transform functions\n",
        "            transforms.RandomCrop(size=(32, 32), padding=4),# random copping\n",
        "            transforms.RandomHorizontalFlip(), # Random horizontal flip\n",
        "            transforms.ToTensor(),\n",
        "            transforms.Normalize(mean=[0.4914, 0.4822, 0.4465],std=[0.2471, 0.2435, 0.2616])\n",
        "        ])\n",
        "        \n",
        "val_transform = transforms.Compose([\n",
        "            transforms.ToTensor(),\n",
        "            transforms.Normalize(mean=[0.4914, 0.4822, 0.4465],std=[0.2471, 0.2435, 0.2616])\n",
        "        ])        "
      ],
      "metadata": {
        "id": "YSFGa5RNeXvA"
      },
      "execution_count": null,
      "outputs": []
    },
    {
      "cell_type": "code",
      "source": [
        "batch_size = 128\n",
        "train_dataset = datasets.CIFAR10(root='data', \n",
        "                                 train=True, \n",
        "                                 transform=train_transform,\n",
        "                                 download=True)\n",
        "\n",
        "test_dataset = datasets.CIFAR10(root='data', \n",
        "                                train=False, \n",
        "                                transform=val_transform)\n",
        "\n",
        "train_dataset\n",
        "test_dataset\n",
        "\n",
        "train_loader = DataLoader(dataset=train_dataset, \n",
        "                          batch_size=batch_size, \n",
        "                          shuffle=True)\n",
        "\n",
        "test_loader = DataLoader(dataset=test_dataset, \n",
        "                         batch_size=batch_size, \n",
        "                         shuffle=False)\n",
        "valid_loader = test_loader"
      ],
      "metadata": {
        "colab": {
          "base_uri": "https://localhost:8080/"
        },
        "id": "iUDdHRUg3sqW",
        "outputId": "b27d6ff4-dc9b-432f-aedc-31d89caecabb"
      },
      "execution_count": null,
      "outputs": [
        {
          "output_type": "stream",
          "name": "stdout",
          "text": [
            "Files already downloaded and verified\n"
          ]
        }
      ]
    },
    {
      "cell_type": "code",
      "source": [
        "class_names = ['plane', 'car', 'bird', 'cat', 'deer', 'dog', 'frog', 'horse', 'ship', 'truck']\n",
        "np.set_printoptions(formatter=dict(int=lambda x: f'{x:5}')) # to widen the printed array\n",
        "\n",
        "# Grab the first batch of 10 images\n",
        "for images,labels in train_loader: \n",
        "    break\n",
        "\n",
        "# Print the labels\n",
        "print('Label:', labels.numpy())\n",
        "print('Class: ', *np.array([class_names[i] for i in labels]))\n",
        "\n",
        "# Print the images\n",
        "im = make_grid(images, nrow=5)  # the default nrow is 8\n",
        "plt.figure(figsize=(10,4))\n",
        "plt.imshow(np.transpose(im.numpy(), (1, 2, 0)));"
      ],
      "metadata": {
        "colab": {
          "base_uri": "https://localhost:8080/",
          "height": 515
        },
        "id": "oZsJsTD5WuXN",
        "outputId": "c9f0abea-5f21-4234-9e85-dcfbae2d345b"
      },
      "execution_count": null,
      "outputs": [
        {
          "output_type": "stream",
          "name": "stderr",
          "text": [
            "Clipping input data to the valid range for imshow with RGB data ([0..1] for floats or [0..255] for integers).\n"
          ]
        },
        {
          "output_type": "stream",
          "name": "stdout",
          "text": [
            "Label: [    1     2     4     1     6     0     4     6     3     2     4     9\n",
            "     3     8     4     1     2     5     3     5     6     1     0     3\n",
            "     3     0     9     4     4     1     6     1     3     7     0     9\n",
            "     2     4     5     0     3     2     9     6     4     8     5     3\n",
            "     8     3     5     5     4     0     9     2     8     1     6     1\n",
            "     8     9     4     9     8     7     9     6     3     5     4     0\n",
            "     0     0     4     6     1     9     3     3     9     3     3     9\n",
            "     1     3     1     3     1     9     1     1     3     3     1     6\n",
            "     9     2     5     0     6     6     0     2     3     6     4     6\n",
            "     5     8     2     9     2     4     6     4     1     9     5     9\n",
            "     9     5     7     3     4     2     9     3]\n",
            "Class:  car bird deer car frog plane deer frog cat bird deer truck cat ship deer car bird dog cat dog frog car plane cat cat plane truck deer deer car frog car cat horse plane truck bird deer dog plane cat bird truck frog deer ship dog cat ship cat dog dog deer plane truck bird ship car frog car ship truck deer truck ship horse truck frog cat dog deer plane plane plane deer frog car truck cat cat truck cat cat truck car cat car cat car truck car car cat cat car frog truck bird dog plane frog frog plane bird cat frog deer frog dog ship bird truck bird deer frog deer car truck dog truck truck dog horse cat deer bird truck cat\n"
          ]
        },
        {
          "output_type": "display_data",
          "data": {
            "image/png": "[encoded data removed]",
            "text/plain": [
              "<Figure size 720x288 with 1 Axes>"
            ]
          },
          "metadata": {
            "needs_background": "light"
          }
        }
      ]
    },
    {
      "cell_type": "code",
      "source": [
        "import time\n",
        "import os\n",
        "\n",
        "import numpy as np\n",
        "\n",
        "import torch\n",
        "import torch.nn.functional as F\n",
        "import torch.nn as nn\n",
        "\n",
        "\n",
        "from torch.utils.data import Dataset\n",
        "from torch.utils.data import DataLoader\n",
        "from torchvision import transforms\n",
        "\n",
        "from PIL import Image\n",
        "import matplotlib.pyplot as plt\n",
        "\n",
        "class VGG19(torch.nn.Module):\n",
        "    def __init__(self,num_classes):\n",
        "        super(VGG19, self).__init__()\n",
        "        self.block1 = nn.Sequential(\n",
        "            nn.Conv2d(in_channels=3,out_channels=64,kernel_size=(3,3),stride=(1,1),padding=1),\n",
        "            nn.BatchNorm2d(num_features=64),\n",
        "            nn.ReLU(),\n",
        "            nn.Conv2d(in_channels=64, out_channels=64, kernel_size=(3,3), stride=(1,1), padding=1),\n",
        "            nn.BatchNorm2d(num_features=64),\n",
        "            nn.ReLU(),\n",
        "            nn.Conv2d(in_channels=64,out_channels=64,kernel_size=(3,3),stride=(1,1),padding=1),\n",
        "            nn.BatchNorm2d(num_features=64),\n",
        "            nn.ReLU(),\n",
        "            nn.Conv2d(in_channels=64, out_channels=64, kernel_size=(3, 3), stride=(1, 1), padding=1),\n",
        "            nn.BatchNorm2d(num_features=64),\n",
        "            nn.ReLU(),\n",
        "            nn.MaxPool2d(kernel_size=(2,2),stride=(2,2))\n",
        "        )\n",
        "        self.block2 = nn.Sequential(\n",
        "            nn.Conv2d(in_channels=64,out_channels=128,kernel_size=(3,3),stride=(1,1),padding=1),\n",
        "            nn.BatchNorm2d(num_features=128),\n",
        "            nn.ReLU(),\n",
        "            nn.Conv2d(in_channels=128, out_channels=128, kernel_size=(3,3), stride=(1,1), padding=1),\n",
        "            nn.BatchNorm2d(num_features=128),\n",
        "            nn.ReLU(),\n",
        "            nn.Conv2d(in_channels=128,out_channels=128,kernel_size=(3,3),stride=(1,1),padding=1),\n",
        "            nn.BatchNorm2d(num_features=128),\n",
        "            nn.ReLU(),\n",
        "            nn.Conv2d(in_channels=128, out_channels=128, kernel_size=(3, 3), stride=(1, 1), padding=1),\n",
        "            nn.BatchNorm2d(num_features=128),\n",
        "            nn.ReLU(),\n",
        "            nn.MaxPool2d(kernel_size=(2,2),stride=(2,2))\n",
        "        )\n",
        "        self.block3 = nn.Sequential(\n",
        "            nn.Conv2d(in_channels=128, out_channels=256, kernel_size=(3, 3), stride=(1, 1), padding=1),\n",
        "            nn.BatchNorm2d(num_features=256),\n",
        "            nn.ReLU(),\n",
        "            nn.Conv2d(in_channels=256, out_channels=256, kernel_size=(3, 3), stride=(1, 1), padding=1),\n",
        "            nn.BatchNorm2d(num_features=256),\n",
        "            nn.ReLU(),\n",
        "            nn.Conv2d(in_channels=256, out_channels=256, kernel_size=(3, 3), stride=(1, 1), padding=1),\n",
        "            nn.BatchNorm2d(num_features=256),\n",
        "            nn.ReLU(),\n",
        "            nn.Conv2d(in_channels=256, out_channels=256, kernel_size=(3, 3), stride=(1, 1), padding=1),\n",
        "            nn.BatchNorm2d(num_features=256),\n",
        "            nn.ReLU(),\n",
        "            nn.MaxPool2d(kernel_size=(2, 2), stride=(2, 2))\n",
        "        )\n",
        "        self.block4 = nn.Sequential(\n",
        "            nn.Conv2d(in_channels=256, out_channels=512, kernel_size=(3, 3), stride=(1, 1), padding=1),\n",
        "            nn.BatchNorm2d(num_features=512),\n",
        "            nn.ReLU(),\n",
        "            nn.Conv2d(in_channels=512, out_channels=512, kernel_size=(3, 3), stride=(1, 1), padding=1),\n",
        "            nn.BatchNorm2d(num_features=512),\n",
        "            nn.ReLU(),\n",
        "            nn.Conv2d(in_channels=512, out_channels=512, kernel_size=(3, 3), stride=(1, 1), padding=1),\n",
        "            nn.BatchNorm2d(num_features=512),\n",
        "            nn.ReLU(),\n",
        "            nn.Conv2d(in_channels=512, out_channels=512, kernel_size=(3, 3), stride=(1, 1), padding=1),\n",
        "            nn.BatchNorm2d(num_features=512),\n",
        "            nn.ReLU(),\n",
        "            nn.MaxPool2d(kernel_size=(2, 2), stride=(2, 2))\n",
        "        )\n",
        "        self.block5 = nn.Sequential(\n",
        "            nn.Conv2d(in_channels=512, out_channels=512, kernel_size=(3, 3), stride=(1, 1), padding=1),\n",
        "            nn.BatchNorm2d(num_features=512),\n",
        "            nn.ReLU(),\n",
        "            nn.Conv2d(in_channels=512, out_channels=512, kernel_size=(3, 3), stride=(1, 1), padding=1),\n",
        "            nn.BatchNorm2d(num_features=512),\n",
        "            nn.ReLU(),\n",
        "            nn.Conv2d(in_channels=512, out_channels=512, kernel_size=(3, 3), stride=(1, 1), padding=1),\n",
        "            nn.BatchNorm2d(num_features=512),\n",
        "            nn.ReLU(),\n",
        "            nn.Conv2d(in_channels=512, out_channels=512, kernel_size=(3, 3), stride=(1, 1), padding=1),\n",
        "            nn.BatchNorm2d(num_features=512),\n",
        "            nn.ReLU(),\n",
        "            nn.MaxPool2d(kernel_size=(2, 2), stride=(2, 2))\n",
        "        )\n",
        "        self.classifier = nn.Sequential(\n",
        "            nn.Linear(512*1*1,4096),\n",
        "            nn.ReLU(),\n",
        "            nn.Dropout(0.5),\n",
        "\n",
        "            nn.Linear(4096,4096),\n",
        "            nn.ReLU(),\n",
        "            nn.Dropout(0.5),\n",
        "\n",
        "            nn.Linear(4096,num_classes)\n",
        "        )\n",
        "    def forward(self,x):\n",
        "        x = self.block1(x)\n",
        "        x = self.block2(x)\n",
        "        x = self.block3(x)\n",
        "        x = self.block4(x)\n",
        "        x = self.block5(x)\n",
        "        logits = self.classifier(x.view(-1,512*1*1))\n",
        "        probas = F.softmax(logits,dim = 1)\n",
        "        return logits,probas\n"
      ],
      "metadata": {
        "id": "XI4HfEfn3v2H"
      },
      "execution_count": null,
      "outputs": []
    },
    {
      "cell_type": "code",
      "execution_count": null,
      "metadata": {
        "id": "f0RFN1MVUy6n",
        "colab": {
          "base_uri": "https://localhost:8080/"
        },
        "outputId": "50c50469-8382-43a6-a3e1-8ffb13d794ff"
      },
      "outputs": [
        {
          "output_type": "stream",
          "name": "stdout",
          "text": [
            "VGG19(\n",
            "  (block1): Sequential(\n",
            "    (0): Conv2d(3, 64, kernel_size=(3, 3), stride=(1, 1), padding=(1, 1))\n",
            "    (1): BatchNorm2d(64, eps=1e-05, momentum=0.1, affine=True, track_running_stats=True)\n",
            "    (2): ReLU()\n",
            "    (3): Conv2d(64, 64, kernel_size=(3, 3), stride=(1, 1), padding=(1, 1))\n",
            "    (4): BatchNorm2d(64, eps=1e-05, momentum=0.1, affine=True, track_running_stats=True)\n",
            "    (5): ReLU()\n",
            "    (6): Conv2d(64, 64, kernel_size=(3, 3), stride=(1, 1), padding=(1, 1))\n",
            "    (7): BatchNorm2d(64, eps=1e-05, momentum=0.1, affine=True, track_running_stats=True)\n",
            "    (8): ReLU()\n",
            "    (9): Conv2d(64, 64, kernel_size=(3, 3), stride=(1, 1), padding=(1, 1))\n",
            "    (10): BatchNorm2d(64, eps=1e-05, momentum=0.1, affine=True, track_running_stats=True)\n",
            "    (11): ReLU()\n",
            "    (12): MaxPool2d(kernel_size=(2, 2), stride=(2, 2), padding=0, dilation=1, ceil_mode=False)\n",
            "  )\n",
            "  (block2): Sequential(\n",
            "    (0): Conv2d(64, 128, kernel_size=(3, 3), stride=(1, 1), padding=(1, 1))\n",
            "    (1): BatchNorm2d(128, eps=1e-05, momentum=0.1, affine=True, track_running_stats=True)\n",
            "    (2): ReLU()\n",
            "    (3): Conv2d(128, 128, kernel_size=(3, 3), stride=(1, 1), padding=(1, 1))\n",
            "    (4): BatchNorm2d(128, eps=1e-05, momentum=0.1, affine=True, track_running_stats=True)\n",
            "    (5): ReLU()\n",
            "    (6): Conv2d(128, 128, kernel_size=(3, 3), stride=(1, 1), padding=(1, 1))\n",
            "    (7): BatchNorm2d(128, eps=1e-05, momentum=0.1, affine=True, track_running_stats=True)\n",
            "    (8): ReLU()\n",
            "    (9): Conv2d(128, 128, kernel_size=(3, 3), stride=(1, 1), padding=(1, 1))\n",
            "    (10): BatchNorm2d(128, eps=1e-05, momentum=0.1, affine=True, track_running_stats=True)\n",
            "    (11): ReLU()\n",
            "    (12): MaxPool2d(kernel_size=(2, 2), stride=(2, 2), padding=0, dilation=1, ceil_mode=False)\n",
            "  )\n",
            "  (block3): Sequential(\n",
            "    (0): Conv2d(128, 256, kernel_size=(3, 3), stride=(1, 1), padding=(1, 1))\n",
            "    (1): BatchNorm2d(256, eps=1e-05, momentum=0.1, affine=True, track_running_stats=True)\n",
            "    (2): ReLU()\n",
            "    (3): Conv2d(256, 256, kernel_size=(3, 3), stride=(1, 1), padding=(1, 1))\n",
            "    (4): BatchNorm2d(256, eps=1e-05, momentum=0.1, affine=True, track_running_stats=True)\n",
            "    (5): ReLU()\n",
            "    (6): Conv2d(256, 256, kernel_size=(3, 3), stride=(1, 1), padding=(1, 1))\n",
            "    (7): BatchNorm2d(256, eps=1e-05, momentum=0.1, affine=True, track_running_stats=True)\n",
            "    (8): ReLU()\n",
            "    (9): Conv2d(256, 256, kernel_size=(3, 3), stride=(1, 1), padding=(1, 1))\n",
            "    (10): BatchNorm2d(256, eps=1e-05, momentum=0.1, affine=True, track_running_stats=True)\n",
            "    (11): ReLU()\n",
            "    (12): MaxPool2d(kernel_size=(2, 2), stride=(2, 2), padding=0, dilation=1, ceil_mode=False)\n",
            "  )\n",
            "  (block4): Sequential(\n",
            "    (0): Conv2d(256, 512, kernel_size=(3, 3), stride=(1, 1), padding=(1, 1))\n",
            "    (1): BatchNorm2d(512, eps=1e-05, momentum=0.1, affine=True, track_running_stats=True)\n",
            "    (2): ReLU()\n",
            "    (3): Conv2d(512, 512, kernel_size=(3, 3), stride=(1, 1), padding=(1, 1))\n",
            "    (4): BatchNorm2d(512, eps=1e-05, momentum=0.1, affine=True, track_running_stats=True)\n",
            "    (5): ReLU()\n",
            "    (6): Conv2d(512, 512, kernel_size=(3, 3), stride=(1, 1), padding=(1, 1))\n",
            "    (7): BatchNorm2d(512, eps=1e-05, momentum=0.1, affine=True, track_running_stats=True)\n",
            "    (8): ReLU()\n",
            "    (9): Conv2d(512, 512, kernel_size=(3, 3), stride=(1, 1), padding=(1, 1))\n",
            "    (10): BatchNorm2d(512, eps=1e-05, momentum=0.1, affine=True, track_running_stats=True)\n",
            "    (11): ReLU()\n",
            "    (12): MaxPool2d(kernel_size=(2, 2), stride=(2, 2), padding=0, dilation=1, ceil_mode=False)\n",
            "  )\n",
            "  (block5): Sequential(\n",
            "    (0): Conv2d(512, 512, kernel_size=(3, 3), stride=(1, 1), padding=(1, 1))\n",
            "    (1): BatchNorm2d(512, eps=1e-05, momentum=0.1, affine=True, track_running_stats=True)\n",
            "    (2): ReLU()\n",
            "    (3): Conv2d(512, 512, kernel_size=(3, 3), stride=(1, 1), padding=(1, 1))\n",
            "    (4): BatchNorm2d(512, eps=1e-05, momentum=0.1, affine=True, track_running_stats=True)\n",
            "    (5): ReLU()\n",
            "    (6): Conv2d(512, 512, kernel_size=(3, 3), stride=(1, 1), padding=(1, 1))\n",
            "    (7): BatchNorm2d(512, eps=1e-05, momentum=0.1, affine=True, track_running_stats=True)\n",
            "    (8): ReLU()\n",
            "    (9): Conv2d(512, 512, kernel_size=(3, 3), stride=(1, 1), padding=(1, 1))\n",
            "    (10): BatchNorm2d(512, eps=1e-05, momentum=0.1, affine=True, track_running_stats=True)\n",
            "    (11): ReLU()\n",
            "    (12): MaxPool2d(kernel_size=(2, 2), stride=(2, 2), padding=0, dilation=1, ceil_mode=False)\n",
            "  )\n",
            "  (classifier): Sequential(\n",
            "    (0): Linear(in_features=512, out_features=4096, bias=True)\n",
            "    (1): ReLU()\n",
            "    (2): Dropout(p=0.5, inplace=False)\n",
            "    (3): Linear(in_features=4096, out_features=4096, bias=True)\n",
            "    (4): ReLU()\n",
            "    (5): Dropout(p=0.5, inplace=False)\n",
            "    (6): Linear(in_features=4096, out_features=10, bias=True)\n",
            "  )\n",
            ")\n",
            "(tensor([[-0.2088, -0.4069, -0.2646,  0.0307,  0.0905,  0.0259, -0.2283,  0.0754,\n",
            "         -0.0017, -0.0235],\n",
            "        [-0.3169,  0.1521, -0.1110,  0.1575,  0.1053,  0.2867,  0.0654,  0.1815,\n",
            "          0.1731, -0.0524]], device='cuda:0', grad_fn=<AddmmBackward0>), tensor([[0.0878, 0.0720, 0.0830, 0.1115, 0.1184, 0.1110, 0.0861, 0.1166, 0.1080,\n",
            "         0.1056],\n",
            "        [0.0674, 0.1077, 0.0828, 0.1083, 0.1028, 0.1233, 0.0988, 0.1110, 0.1100,\n",
            "         0.0878]], device='cuda:0', grad_fn=<SoftmaxBackward0>))\n"
          ]
        }
      ],
      "source": [
        "torch.manual_seed(101)\n",
        "model = VGG19(10).to(device)\n",
        "x = torch.randn(2, 3, 32, 32).cuda() #2x3 matrix with each element to be 32x32\n",
        "y = model(x)\n",
        "\n",
        "print(model)\n",
        "print(y)"
      ]
    },
    {
      "cell_type": "code",
      "source": [
        "# optimizer = torch.optim.Adam(model.parameters(), lr=0.001)\n",
        "optimizer = torch.optim.SGD(model.parameters(), lr=1e-3, momentum=0.9, weight_decay=5e-4)"
      ],
      "metadata": {
        "id": "AxThuHqk31VF"
      },
      "execution_count": null,
      "outputs": []
    },
    {
      "cell_type": "code",
      "source": [
        "def compute_accuracy_and_loss(model, data_loader, device):\n",
        "    correct_pred, num_examples = 0, 0\n",
        "    cross_entropy = 0.\n",
        "    for i, (features, targets) in enumerate(data_loader):\n",
        "            \n",
        "        features = features.to(device)\n",
        "        targets = targets.to(device)\n",
        "\n",
        "        logits, probas = model(features)\n",
        "        cross_entropy += F.cross_entropy(logits, targets).item()\n",
        "        _, predicted_labels = torch.max(probas, 1)\n",
        "        num_examples += targets.size(0)\n",
        "        correct_pred += (predicted_labels == targets).sum()\n",
        "    return correct_pred.float()/num_examples * 100, cross_entropy/num_examples\n",
        "    \n",
        "\n",
        "import time\n",
        "start_time = time.time()\n",
        "\n",
        "epochs = 50\n",
        "train_losses = []\n",
        "val_losses = []\n",
        "train_accs = []\n",
        "val_accs = []\n",
        "\n",
        "\n",
        "for i in range(epochs):\n",
        "    model.train()\n",
        "    \n",
        "    # Run the training batches\n",
        "    for batch_idx, (X_train, y_train) in enumerate(train_loader):#50000/64 = 782 batches\n",
        "\n",
        "        X_train, y_train = X_train.to(device), y_train.to(device)\n",
        "        # Apply the model\n",
        "        logits, probas = model(X_train)\n",
        "        loss = F.cross_entropy(logits, y_train)\n",
        "        \n",
        "        # Update parameters\n",
        "        optimizer.zero_grad()\n",
        "        loss.backward()\n",
        "        optimizer.step()\n",
        "        \n",
        "#         if b%100 == 0:\n",
        "#             print(f'epoch: {i:2}  batch: {b:4} [{64*b:6}/50000]  loss: {loss.item():10.8f}  \\\n",
        "# accuracy: {trn_corr.item()*100/(64*b):7.3f}%')\n",
        "        if not batch_idx % 300:\n",
        "            print (f'Epoch: {i+1:03d}/{epochs:03d} | '\n",
        "                   f'Batch {batch_idx:03d}/{len(train_loader):03d} |' \n",
        "                   f' Cost: {loss:.4f}')\n",
        "        \n",
        "   \n",
        "    model.eval()\n",
        "    # Run the testing batches\n",
        "    with torch.no_grad():\n",
        "        train_acc, train_loss = compute_accuracy_and_loss(model, train_loader, device=device)\n",
        "        valid_acc, valid_loss = compute_accuracy_and_loss(model, valid_loader, device=device)\n",
        "        train_accs.append(train_acc)\n",
        "        val_accs.append(valid_acc)\n",
        "        train_losses.append(train_loss)\n",
        "        val_losses.append(valid_loss)\n",
        "        print(f'Epoch: {i+1:03d}/{epochs:03d} Train Acc.: {train_acc:.2f}%'\n",
        "              f' | Validation Acc.: {valid_acc:.2f}%')\n",
        "print(f'\\nDuration: {time.time() - start_time:.0f} seconds') # print the time elapsed            \n",
        "\n",
        "\n"
      ],
      "metadata": {
        "id": "cGrznZan34uv",
        "colab": {
          "base_uri": "https://localhost:8080/"
        },
        "outputId": "358c5663-3040-4a96-b7a0-62197bc17db9"
      },
      "execution_count": null,
      "outputs": [
        {
          "output_type": "stream",
          "name": "stdout",
          "text": [
            "Epoch: 001/050 | Batch 000/391 | Cost: 2.3331\n",
            "Epoch: 001/050 | Batch 300/391 | Cost: 1.5845\n",
            "Epoch: 001/050 Train Acc.: 45.20% | Validation Acc.: 45.27%\n",
            "Epoch: 002/050 | Batch 000/391 | Cost: 1.5271\n",
            "Epoch: 002/050 | Batch 300/391 | Cost: 1.3031\n",
            "Epoch: 002/050 Train Acc.: 59.36% | Validation Acc.: 59.69%\n",
            "Epoch: 003/050 | Batch 000/391 | Cost: 1.2109\n",
            "Epoch: 003/050 | Batch 300/391 | Cost: 1.0315\n",
            "Epoch: 003/050 Train Acc.: 69.36% | Validation Acc.: 69.26%\n",
            "Epoch: 004/050 | Batch 000/391 | Cost: 0.7897\n",
            "Epoch: 004/050 | Batch 300/391 | Cost: 0.8585\n",
            "Epoch: 004/050 Train Acc.: 72.53% | Validation Acc.: 72.93%\n",
            "Epoch: 005/050 | Batch 000/391 | Cost: 0.6791\n",
            "Epoch: 005/050 | Batch 300/391 | Cost: 0.6973\n",
            "Epoch: 005/050 Train Acc.: 76.30% | Validation Acc.: 76.07%\n",
            "Epoch: 006/050 | Batch 000/391 | Cost: 0.6810\n",
            "Epoch: 006/050 | Batch 300/391 | Cost: 0.5725\n",
            "Epoch: 006/050 Train Acc.: 79.10% | Validation Acc.: 77.66%\n",
            "Epoch: 007/050 | Batch 000/391 | Cost: 0.5119\n",
            "Epoch: 007/050 | Batch 300/391 | Cost: 0.6015\n",
            "Epoch: 007/050 Train Acc.: 74.65% | Validation Acc.: 72.79%\n",
            "Epoch: 008/050 | Batch 000/391 | Cost: 0.7672\n",
            "Epoch: 008/050 | Batch 300/391 | Cost: 0.5571\n",
            "Epoch: 008/050 Train Acc.: 83.41% | Validation Acc.: 81.39%\n",
            "Epoch: 009/050 | Batch 000/391 | Cost: 0.5923\n",
            "Epoch: 009/050 | Batch 300/391 | Cost: 0.4673\n",
            "Epoch: 009/050 Train Acc.: 84.30% | Validation Acc.: 81.64%\n",
            "Epoch: 010/050 | Batch 000/391 | Cost: 0.3105\n",
            "Epoch: 010/050 | Batch 300/391 | Cost: 0.4690\n",
            "Epoch: 010/050 Train Acc.: 85.92% | Validation Acc.: 83.45%\n",
            "Epoch: 011/050 | Batch 000/391 | Cost: 0.4069\n",
            "Epoch: 011/050 | Batch 300/391 | Cost: 0.4013\n",
            "Epoch: 011/050 Train Acc.: 87.40% | Validation Acc.: 83.70%\n",
            "Epoch: 012/050 | Batch 000/391 | Cost: 0.2248\n",
            "Epoch: 012/050 | Batch 300/391 | Cost: 0.3814\n",
            "Epoch: 012/050 Train Acc.: 88.00% | Validation Acc.: 85.00%\n",
            "Epoch: 013/050 | Batch 000/391 | Cost: 0.3845\n",
            "Epoch: 013/050 | Batch 300/391 | Cost: 0.3365\n",
            "Epoch: 013/050 Train Acc.: 88.41% | Validation Acc.: 84.83%\n",
            "Epoch: 014/050 | Batch 000/391 | Cost: 0.3115\n",
            "Epoch: 014/050 | Batch 300/391 | Cost: 0.4119\n",
            "Epoch: 014/050 Train Acc.: 88.74% | Validation Acc.: 85.17%\n",
            "Epoch: 015/050 | Batch 000/391 | Cost: 0.3539\n",
            "Epoch: 015/050 | Batch 300/391 | Cost: 0.2667\n",
            "Epoch: 015/050 Train Acc.: 88.76% | Validation Acc.: 85.05%\n",
            "Epoch: 016/050 | Batch 000/391 | Cost: 0.2803\n",
            "Epoch: 016/050 | Batch 300/391 | Cost: 0.2473\n",
            "Epoch: 016/050 Train Acc.: 91.38% | Validation Acc.: 86.10%\n",
            "Epoch: 017/050 | Batch 000/391 | Cost: 0.2011\n",
            "Epoch: 017/050 | Batch 300/391 | Cost: 0.2528\n",
            "Epoch: 017/050 Train Acc.: 89.60% | Validation Acc.: 85.14%\n",
            "Epoch: 018/050 | Batch 000/391 | Cost: 0.2452\n",
            "Epoch: 018/050 | Batch 300/391 | Cost: 0.3270\n",
            "Epoch: 018/050 Train Acc.: 91.16% | Validation Acc.: 85.79%\n",
            "Epoch: 019/050 | Batch 000/391 | Cost: 0.1693\n",
            "Epoch: 019/050 | Batch 300/391 | Cost: 0.3158\n",
            "Epoch: 019/050 Train Acc.: 91.25% | Validation Acc.: 86.32%\n",
            "Epoch: 020/050 | Batch 000/391 | Cost: 0.2736\n",
            "Epoch: 020/050 | Batch 300/391 | Cost: 0.2120\n",
            "Epoch: 020/050 Train Acc.: 92.51% | Validation Acc.: 86.52%\n",
            "Epoch: 021/050 | Batch 000/391 | Cost: 0.2175\n",
            "Epoch: 021/050 | Batch 300/391 | Cost: 0.3029\n",
            "Epoch: 021/050 Train Acc.: 91.52% | Validation Acc.: 85.72%\n",
            "Epoch: 022/050 | Batch 000/391 | Cost: 0.2439\n",
            "Epoch: 022/050 | Batch 300/391 | Cost: 0.1567\n",
            "Epoch: 022/050 Train Acc.: 93.83% | Validation Acc.: 88.06%\n",
            "Epoch: 023/050 | Batch 000/391 | Cost: 0.1498\n",
            "Epoch: 023/050 | Batch 300/391 | Cost: 0.1531\n",
            "Epoch: 023/050 Train Acc.: 92.41% | Validation Acc.: 86.07%\n",
            "Epoch: 024/050 | Batch 000/391 | Cost: 0.2605\n",
            "Epoch: 024/050 | Batch 300/391 | Cost: 0.2763\n",
            "Epoch: 024/050 Train Acc.: 93.97% | Validation Acc.: 87.50%\n",
            "Epoch: 025/050 | Batch 000/391 | Cost: 0.1437\n",
            "Epoch: 025/050 | Batch 300/391 | Cost: 0.1655\n",
            "Epoch: 025/050 Train Acc.: 94.37% | Validation Acc.: 87.60%\n",
            "Epoch: 026/050 | Batch 000/391 | Cost: 0.1375\n",
            "Epoch: 026/050 | Batch 300/391 | Cost: 0.2924\n",
            "Epoch: 026/050 Train Acc.: 94.97% | Validation Acc.: 88.25%\n",
            "Epoch: 027/050 | Batch 000/391 | Cost: 0.0830\n",
            "Epoch: 027/050 | Batch 300/391 | Cost: 0.2458\n",
            "Epoch: 027/050 Train Acc.: 94.74% | Validation Acc.: 88.42%\n",
            "Epoch: 028/050 | Batch 000/391 | Cost: 0.1695\n",
            "Epoch: 028/050 | Batch 300/391 | Cost: 0.1752\n",
            "Epoch: 028/050 Train Acc.: 93.86% | Validation Acc.: 86.89%\n",
            "Epoch: 029/050 | Batch 000/391 | Cost: 0.1998\n",
            "Epoch: 029/050 | Batch 300/391 | Cost: 0.1659\n",
            "Epoch: 029/050 Train Acc.: 94.33% | Validation Acc.: 87.58%\n",
            "Epoch: 030/050 | Batch 000/391 | Cost: 0.1252\n",
            "Epoch: 030/050 | Batch 300/391 | Cost: 0.1325\n",
            "Epoch: 030/050 Train Acc.: 94.47% | Validation Acc.: 87.03%\n",
            "Epoch: 031/050 | Batch 000/391 | Cost: 0.1015\n",
            "Epoch: 031/050 | Batch 300/391 | Cost: 0.1370\n",
            "Epoch: 031/050 Train Acc.: 95.15% | Validation Acc.: 88.26%\n",
            "Epoch: 032/050 | Batch 000/391 | Cost: 0.1027\n",
            "Epoch: 032/050 | Batch 300/391 | Cost: 0.1303\n",
            "Epoch: 032/050 Train Acc.: 96.16% | Validation Acc.: 88.68%\n",
            "Epoch: 033/050 | Batch 000/391 | Cost: 0.1543\n",
            "Epoch: 033/050 | Batch 300/391 | Cost: 0.2213\n",
            "Epoch: 033/050 Train Acc.: 96.01% | Validation Acc.: 88.44%\n",
            "Epoch: 034/050 | Batch 000/391 | Cost: 0.0952\n",
            "Epoch: 034/050 | Batch 300/391 | Cost: 0.1384\n",
            "Epoch: 034/050 Train Acc.: 94.94% | Validation Acc.: 87.02%\n",
            "Epoch: 035/050 | Batch 000/391 | Cost: 0.1809\n",
            "Epoch: 035/050 | Batch 300/391 | Cost: 0.0688\n",
            "Epoch: 035/050 Train Acc.: 95.02% | Validation Acc.: 87.52%\n",
            "Epoch: 036/050 | Batch 000/391 | Cost: 0.1595\n",
            "Epoch: 036/050 | Batch 300/391 | Cost: 0.1076\n",
            "Epoch: 036/050 Train Acc.: 96.16% | Validation Acc.: 87.94%\n",
            "Epoch: 037/050 | Batch 000/391 | Cost: 0.1057\n",
            "Epoch: 037/050 | Batch 300/391 | Cost: 0.1601\n",
            "Epoch: 037/050 Train Acc.: 96.60% | Validation Acc.: 88.55%\n",
            "Epoch: 038/050 | Batch 000/391 | Cost: 0.1159\n",
            "Epoch: 038/050 | Batch 300/391 | Cost: 0.0972\n",
            "Epoch: 038/050 Train Acc.: 96.38% | Validation Acc.: 88.40%\n",
            "Epoch: 039/050 | Batch 000/391 | Cost: 0.0671\n",
            "Epoch: 039/050 | Batch 300/391 | Cost: 0.1473\n",
            "Epoch: 039/050 Train Acc.: 96.99% | Validation Acc.: 89.27%\n",
            "Epoch: 040/050 | Batch 000/391 | Cost: 0.0598\n",
            "Epoch: 040/050 | Batch 300/391 | Cost: 0.0367\n",
            "Epoch: 040/050 Train Acc.: 96.03% | Validation Acc.: 88.05%\n",
            "Epoch: 041/050 | Batch 000/391 | Cost: 0.0586\n",
            "Epoch: 041/050 | Batch 300/391 | Cost: 0.0754\n",
            "Epoch: 041/050 Train Acc.: 97.23% | Validation Acc.: 88.51%\n",
            "Epoch: 042/050 | Batch 000/391 | Cost: 0.0906\n",
            "Epoch: 042/050 | Batch 300/391 | Cost: 0.0813\n",
            "Epoch: 042/050 Train Acc.: 95.60% | Validation Acc.: 87.31%\n",
            "Epoch: 043/050 | Batch 000/391 | Cost: 0.1016\n",
            "Epoch: 043/050 | Batch 300/391 | Cost: 0.0921\n",
            "Epoch: 043/050 Train Acc.: 97.33% | Validation Acc.: 89.45%\n",
            "Epoch: 044/050 | Batch 000/391 | Cost: 0.0869\n",
            "Epoch: 044/050 | Batch 300/391 | Cost: 0.0181\n",
            "Epoch: 044/050 Train Acc.: 95.56% | Validation Acc.: 87.75%\n",
            "Epoch: 045/050 | Batch 000/391 | Cost: 0.0192\n",
            "Epoch: 045/050 | Batch 300/391 | Cost: 0.0553\n",
            "Epoch: 045/050 Train Acc.: 96.99% | Validation Acc.: 88.85%\n",
            "Epoch: 046/050 | Batch 000/391 | Cost: 0.0694\n",
            "Epoch: 046/050 | Batch 300/391 | Cost: 0.1012\n",
            "Epoch: 046/050 Train Acc.: 97.72% | Validation Acc.: 88.90%\n",
            "Epoch: 047/050 | Batch 000/391 | Cost: 0.0691\n",
            "Epoch: 047/050 | Batch 300/391 | Cost: 0.1716\n",
            "Epoch: 047/050 Train Acc.: 96.99% | Validation Acc.: 88.97%\n",
            "Epoch: 048/050 | Batch 000/391 | Cost: 0.0320\n",
            "Epoch: 048/050 | Batch 300/391 | Cost: 0.0563\n",
            "Epoch: 048/050 Train Acc.: 96.90% | Validation Acc.: 88.53%\n",
            "Epoch: 049/050 | Batch 000/391 | Cost: 0.0562\n",
            "Epoch: 049/050 | Batch 300/391 | Cost: 0.0864\n",
            "Epoch: 049/050 Train Acc.: 97.56% | Validation Acc.: 89.31%\n",
            "Epoch: 050/050 | Batch 000/391 | Cost: 0.0454\n",
            "Epoch: 050/050 | Batch 300/391 | Cost: 0.0651\n",
            "Epoch: 050/050 Train Acc.: 97.76% | Validation Acc.: 89.55%\n",
            "\n",
            "Duration: 3117 seconds\n"
          ]
        }
      ]
    },
    {
      "cell_type": "code",
      "source": [
        "plt.plot(range(1, epochs+1), train_losses, label='Training loss')\n",
        "plt.plot(range(1, epochs+1), val_losses, label='Validation loss')\n",
        "plt.title('Loss at the end of each epoch')\n",
        "plt.xlabel('epochs')\n",
        "plt.legend();"
      ],
      "metadata": {
        "id": "DHlBAKGg36lS",
        "colab": {
          "base_uri": "https://localhost:8080/",
          "height": 295
        },
        "outputId": "dae9b7c7-4b66-483c-cd0d-8754f70bbdba"
      },
      "execution_count": null,
      "outputs": [
        {
          "output_type": "display_data",
          "data": {
            "image/png": "[encoded data removed]",
            "text/plain": [
              "<Figure size 432x288 with 1 Axes>"
            ]
          },
          "metadata": {
            "needs_background": "light"
          }
        }
      ]
    },
    {
      "cell_type": "code",
      "source": [
        "plt.plot(range(1, epochs+1), train_accs, label='Training accuracy')\n",
        "plt.plot(range(1, epochs+1), val_accs, label='Validation accuracy')\n",
        "plt.title('Accuracy at the end of each epoch')\n",
        "plt.xlabel('epochs')\n",
        "plt.legend()"
      ],
      "metadata": {
        "colab": {
          "base_uri": "https://localhost:8080/",
          "height": 313
        },
        "id": "JPQQH0LE38ib",
        "outputId": "b148a43e-0fb0-43e6-a6b3-24a529c7ed33"
      },
      "execution_count": null,
      "outputs": [
        {
          "output_type": "execute_result",
          "data": {
            "text/plain": [
              "<matplotlib.legend.Legend at 0x7f24f6756cd0>"
            ]
          },
          "metadata": {},
          "execution_count": 47
        },
        {
          "output_type": "display_data",
          "data": {
            "image/png": "[encoded data removed]",
            "text/plain": [
              "<Figure size 432x288 with 1 Axes>"
            ]
          },
          "metadata": {
            "needs_background": "light"
          }
        }
      ]
    },
    {
      "cell_type": "code",
      "source": [
        "model.eval()\n",
        "with torch.set_grad_enabled(False): # save memory during inference\n",
        "    test_acc, test_loss = compute_accuracy_and_loss(model, test_loader, DEVICE)\n",
        "    print(f'Test accuracy: {test_acc:.2f}%')"
      ],
      "metadata": {
        "colab": {
          "base_uri": "https://localhost:8080/",
          "height": 221
        },
        "id": "ZKUI3VME3-FR",
        "outputId": "783e1733-747b-4332-bbad-be8c3fcd0ba1"
      },
      "execution_count": null,
      "outputs": [
        {
          "output_type": "error",
          "ename": "NameError",
          "evalue": "ignored",
          "traceback": [
            "\u001b[0;31m---------------------------------------------------------------------------\u001b[0m",
            "\u001b[0;31mNameError\u001b[0m                                 Traceback (most recent call last)",
            "\u001b[0;32m<ipython-input-48-400cb4f49555>\u001b[0m in \u001b[0;36m<module>\u001b[0;34m()\u001b[0m\n\u001b[1;32m      1\u001b[0m \u001b[0mmodel\u001b[0m\u001b[0;34m.\u001b[0m\u001b[0meval\u001b[0m\u001b[0;34m(\u001b[0m\u001b[0;34m)\u001b[0m\u001b[0;34m\u001b[0m\u001b[0;34m\u001b[0m\u001b[0m\n\u001b[1;32m      2\u001b[0m \u001b[0;32mwith\u001b[0m \u001b[0mtorch\u001b[0m\u001b[0;34m.\u001b[0m\u001b[0mset_grad_enabled\u001b[0m\u001b[0;34m(\u001b[0m\u001b[0;32mFalse\u001b[0m\u001b[0;34m)\u001b[0m\u001b[0;34m:\u001b[0m \u001b[0;31m# save memory during inference\u001b[0m\u001b[0;34m\u001b[0m\u001b[0;34m\u001b[0m\u001b[0m\n\u001b[0;32m----> 3\u001b[0;31m     \u001b[0mtest_acc\u001b[0m\u001b[0;34m,\u001b[0m \u001b[0mtest_loss\u001b[0m \u001b[0;34m=\u001b[0m \u001b[0mcompute_accuracy_and_loss\u001b[0m\u001b[0;34m(\u001b[0m\u001b[0mmodel\u001b[0m\u001b[0;34m,\u001b[0m \u001b[0mtest_loader\u001b[0m\u001b[0;34m,\u001b[0m \u001b[0mDEVICE\u001b[0m\u001b[0;34m)\u001b[0m\u001b[0;34m\u001b[0m\u001b[0;34m\u001b[0m\u001b[0m\n\u001b[0m\u001b[1;32m      4\u001b[0m     \u001b[0mprint\u001b[0m\u001b[0;34m(\u001b[0m\u001b[0;34mf'Test accuracy: {test_acc:.2f}%'\u001b[0m\u001b[0;34m)\u001b[0m\u001b[0;34m\u001b[0m\u001b[0;34m\u001b[0m\u001b[0m\n",
            "\u001b[0;31mNameError\u001b[0m: name 'DEVICE' is not defined"
          ]
        }
      ]
    },
    {
      "cell_type": "code",
      "source": [
        "# # Create a loader for the entire the test set\n",
        "# test_load_all = DataLoader(test_dataset, batch_size=10000, shuffle=False)\n",
        "\n",
        "# with torch.no_grad():\n",
        "#     correct = 0\n",
        "#     for X_test, y_test in test_load_all:\n",
        "#         X_test, y_test = X_test.to(device), y_test.to(device)\n",
        "#         y_val = model(X_test)\n",
        "#         predicted = torch.max(y_val,1)[1]\n",
        "#         correct += (predicted == y_test).sum()\n",
        "\n",
        "# arr = confusion_matrix(y_test.view(-1), predicted.view(-1))\n",
        "# df_cm = pd.DataFrame(arr, class_names, class_names)\n",
        "# plt.figure(figsize = (9,6))\n",
        "# sn.heatmap(df_cm, annot=True, fmt=\"d\", cmap='BuGn')\n",
        "# plt.xlabel(\"prediction\")\n",
        "# plt.ylabel(\"label (ground truth)\")\n",
        "# plt.show();"
      ],
      "metadata": {
        "id": "6BSM-58hfxyb"
      },
      "execution_count": null,
      "outputs": []
    },
    {
      "cell_type": "code",
      "source": [
        "from PIL import Image\n",
        "import matplotlib.pyplot as plt\n",
        "for features, targets in train_loader:\n",
        "    break\n",
        "#预测环节\n",
        "_, predictions = model.forward(features[:8].to(DEVICE))\n",
        "predictions = torch.argmax(predictions, dim=1)\n",
        "print(predictions)\n",
        "\n",
        "features = features[:7]\n",
        "fig = plt.figure()\n",
        "tname = ['airplane', 'automobile', 'bird', 'cat', 'deer', 'dog', 'frog', 'horse', 'ship', 'truck']\n",
        "# print(features[i].size())\n",
        "for i in range(6):\n",
        "    plt.subplot(2,3,i+1)\n",
        "    plt.tight_layout()\n",
        "    tmp = features[i]\n",
        "    plt.imshow(np.transpose(tmp, (1, 2, 0)))\n",
        "    plt.title(\"Actual value: {}\".format(tname[targets[i]])+'\\n'+\"Prediction value: {}\".format(tname[predictions[i]]),size = 10)\n",
        "    \n",
        "#     plt.title(\"Prediction value: {}\".format(tname[targets[i]]))\n",
        "plt.show()\n"
      ],
      "metadata": {
        "id": "_wsE6xj8gTkU"
      },
      "execution_count": null,
      "outputs": []
    }
  ]
}